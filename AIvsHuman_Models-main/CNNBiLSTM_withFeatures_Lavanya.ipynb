{
 "cells": [
  {
   "cell_type": "markdown",
   "metadata": {
    "id": "ZmNF5rM-E2Eo"
   },
   "source": [
    "## Import the required Libraries"
   ]
  },
  {
   "cell_type": "code",
   "execution_count": 3,
   "metadata": {},
   "outputs": [],
   "source": [
    "import os\n",
    "os.environ['CUDA_VISIBLE_DEVICES'] = ''"
   ]
  },
  {
   "cell_type": "code",
   "execution_count": 4,
   "metadata": {
    "id": "E4t86BxFEjCO"
   },
   "outputs": [
    {
     "name": "stderr",
     "output_type": "stream",
     "text": [
      "2024-04-29 10:15:52.851801: E external/local_xla/xla/stream_executor/cuda/cuda_dnn.cc:9261] Unable to register cuDNN factory: Attempting to register factory for plugin cuDNN when one has already been registered\n",
      "2024-04-29 10:15:52.851834: E external/local_xla/xla/stream_executor/cuda/cuda_fft.cc:607] Unable to register cuFFT factory: Attempting to register factory for plugin cuFFT when one has already been registered\n",
      "2024-04-29 10:15:52.852899: E external/local_xla/xla/stream_executor/cuda/cuda_blas.cc:1515] Unable to register cuBLAS factory: Attempting to register factory for plugin cuBLAS when one has already been registered\n",
      "2024-04-29 10:15:52.858686: I tensorflow/core/platform/cpu_feature_guard.cc:182] This TensorFlow binary is optimized to use available CPU instructions in performance-critical operations.\n",
      "To enable the following instructions: AVX2 AVX512F FMA, in other operations, rebuild TensorFlow with the appropriate compiler flags.\n",
      "2024-04-29 10:15:53.565124: W tensorflow/compiler/tf2tensorrt/utils/py_utils.cc:38] TF-TRT Warning: Could not find TensorRT\n"
     ]
    }
   ],
   "source": [
    "import pandas as pd\n",
    "import tensorflow as tf\n",
    "import numpy as np\n",
    "import seaborn as sns\n",
    "from sklearn.model_selection import train_test_split\n",
    "from sklearn.feature_extraction.text import TfidfVectorizer\n",
    "# from skmultilearn.adapt import MLkNN\n",
    "import sklearn.metrics as metrics\n",
    "from sklearn.metrics import hamming_loss, accuracy_score\n",
    "from sklearn.metrics import confusion_matrix\n",
    "from sklearn.model_selection import StratifiedKFold\n",
    "from sklearn.metrics import multilabel_confusion_matrix\n",
    "import os\n",
    "from tensorflow.keras.layers import Embedding, Conv1D, MaxPooling1D, Bidirectional, LSTM, Dense, concatenate"
   ]
  },
  {
   "cell_type": "markdown",
   "metadata": {
    "id": "XXr7gGepFCjS"
   },
   "source": [
    "## Read the data"
   ]
  },
  {
   "cell_type": "code",
   "execution_count": 5,
   "metadata": {
    "id": "IkRVFDytFJtY"
   },
   "outputs": [],
   "source": [
    "df = pd.read_csv(\"/home/yadagiri/train_dataset.csv\")"
   ]
  },
  {
   "cell_type": "markdown",
   "metadata": {
    "id": "GYvpSZlHbWvX"
   },
   "source": [
    "To reduce the load(on my system), taking first 1087 rows of human and last 1087 rows of gemini-pro. Dropping the rest (We will be considering the entire data set on the PC)"
   ]
  },
  {
   "cell_type": "markdown",
   "metadata": {
    "id": "_WY6Q_UOFZ1q"
   },
   "source": [
    "# Drop 'id' and 'category' column"
   ]
  },
  {
   "cell_type": "code",
   "execution_count": 6,
   "metadata": {
    "id": "khz7Vms8FZVJ"
   },
   "outputs": [],
   "source": [
    "df = df.drop(columns=['id', 'Category'])"
   ]
  },
  {
   "cell_type": "code",
   "execution_count": 7,
   "metadata": {
    "colab": {
     "base_uri": "https://localhost:8080/",
     "height": 614
    },
    "id": "tD28Mzg9F3Vz",
    "outputId": "bad59222-3f8a-4249-9309-544e073bfd59"
   },
   "outputs": [
    {
     "data": {
      "text/html": [
       "<div>\n",
       "<style scoped>\n",
       "    .dataframe tbody tr th:only-of-type {\n",
       "        vertical-align: middle;\n",
       "    }\n",
       "\n",
       "    .dataframe tbody tr th {\n",
       "        vertical-align: top;\n",
       "    }\n",
       "\n",
       "    .dataframe thead th {\n",
       "        text-align: right;\n",
       "    }\n",
       "</style>\n",
       "<table border=\"1\" class=\"dataframe\">\n",
       "  <thead>\n",
       "    <tr style=\"text-align: right;\">\n",
       "      <th></th>\n",
       "      <th>text</th>\n",
       "      <th>Vocabulary</th>\n",
       "      <th>Noun Count</th>\n",
       "      <th>Verb Count</th>\n",
       "      <th>AUX Count</th>\n",
       "      <th>NUM Count</th>\n",
       "      <th>PRON Count</th>\n",
       "      <th>ADV Count</th>\n",
       "      <th>INTJ Count</th>\n",
       "      <th>PART Count</th>\n",
       "      <th>label</th>\n",
       "    </tr>\n",
       "  </thead>\n",
       "  <tbody>\n",
       "    <tr>\n",
       "      <th>0</th>\n",
       "      <td>Unveiling the Plot: Evidence Points to Premedi...</td>\n",
       "      <td>279</td>\n",
       "      <td>146</td>\n",
       "      <td>86</td>\n",
       "      <td>2</td>\n",
       "      <td>2</td>\n",
       "      <td>9</td>\n",
       "      <td>13</td>\n",
       "      <td>0</td>\n",
       "      <td>0</td>\n",
       "      <td>1</td>\n",
       "    </tr>\n",
       "    <tr>\n",
       "      <th>1</th>\n",
       "      <td>Chris Wallace Departs Fox News After 18 Years ...</td>\n",
       "      <td>215</td>\n",
       "      <td>85</td>\n",
       "      <td>48</td>\n",
       "      <td>1</td>\n",
       "      <td>5</td>\n",
       "      <td>12</td>\n",
       "      <td>5</td>\n",
       "      <td>0</td>\n",
       "      <td>1</td>\n",
       "      <td>1</td>\n",
       "    </tr>\n",
       "    <tr>\n",
       "      <th>2</th>\n",
       "      <td>Tiger Woods' Resurgence: A Journey from Scanda...</td>\n",
       "      <td>255</td>\n",
       "      <td>107</td>\n",
       "      <td>64</td>\n",
       "      <td>4</td>\n",
       "      <td>10</td>\n",
       "      <td>31</td>\n",
       "      <td>13</td>\n",
       "      <td>0</td>\n",
       "      <td>0</td>\n",
       "      <td>1</td>\n",
       "    </tr>\n",
       "    <tr>\n",
       "      <th>3</th>\n",
       "      <td>Fact Check: Biden Inauguration Amidst Pandemic...</td>\n",
       "      <td>282</td>\n",
       "      <td>130</td>\n",
       "      <td>84</td>\n",
       "      <td>0</td>\n",
       "      <td>6</td>\n",
       "      <td>7</td>\n",
       "      <td>9</td>\n",
       "      <td>0</td>\n",
       "      <td>1</td>\n",
       "      <td>1</td>\n",
       "    </tr>\n",
       "    <tr>\n",
       "      <th>4</th>\n",
       "      <td>Hurricane Ida, the third major hurricane to hi...</td>\n",
       "      <td>114</td>\n",
       "      <td>66</td>\n",
       "      <td>58</td>\n",
       "      <td>2</td>\n",
       "      <td>11</td>\n",
       "      <td>4</td>\n",
       "      <td>4</td>\n",
       "      <td>0</td>\n",
       "      <td>1</td>\n",
       "      <td>1</td>\n",
       "    </tr>\n",
       "    <tr>\n",
       "      <th>...</th>\n",
       "      <td>...</td>\n",
       "      <td>...</td>\n",
       "      <td>...</td>\n",
       "      <td>...</td>\n",
       "      <td>...</td>\n",
       "      <td>...</td>\n",
       "      <td>...</td>\n",
       "      <td>...</td>\n",
       "      <td>...</td>\n",
       "      <td>...</td>\n",
       "      <td>...</td>\n",
       "    </tr>\n",
       "    <tr>\n",
       "      <th>12145</th>\n",
       "      <td>Tom Brady Retires, Baker Mayfield Takes Over: ...</td>\n",
       "      <td>261</td>\n",
       "      <td>121</td>\n",
       "      <td>64</td>\n",
       "      <td>10</td>\n",
       "      <td>25</td>\n",
       "      <td>9</td>\n",
       "      <td>10</td>\n",
       "      <td>0</td>\n",
       "      <td>1</td>\n",
       "      <td>1</td>\n",
       "    </tr>\n",
       "    <tr>\n",
       "      <th>12146</th>\n",
       "      <td>NEW YORK (CNN) -- On the morning of Sept. 11, ...</td>\n",
       "      <td>125</td>\n",
       "      <td>37</td>\n",
       "      <td>36</td>\n",
       "      <td>0</td>\n",
       "      <td>4</td>\n",
       "      <td>17</td>\n",
       "      <td>7</td>\n",
       "      <td>0</td>\n",
       "      <td>1</td>\n",
       "      <td>1</td>\n",
       "    </tr>\n",
       "    <tr>\n",
       "      <th>12147</th>\n",
       "      <td>Tiger Woods was involved in a serious car cras...</td>\n",
       "      <td>147</td>\n",
       "      <td>103</td>\n",
       "      <td>86</td>\n",
       "      <td>1</td>\n",
       "      <td>1</td>\n",
       "      <td>32</td>\n",
       "      <td>16</td>\n",
       "      <td>0</td>\n",
       "      <td>1</td>\n",
       "      <td>1</td>\n",
       "    </tr>\n",
       "    <tr>\n",
       "      <th>12148</th>\n",
       "      <td>Facebook warns of slower revenue growth amid f...</td>\n",
       "      <td>233</td>\n",
       "      <td>106</td>\n",
       "      <td>54</td>\n",
       "      <td>1</td>\n",
       "      <td>17</td>\n",
       "      <td>10</td>\n",
       "      <td>10</td>\n",
       "      <td>0</td>\n",
       "      <td>2</td>\n",
       "      <td>0</td>\n",
       "    </tr>\n",
       "    <tr>\n",
       "      <th>12149</th>\n",
       "      <td>Suez Canal Blockage Threatens Global Trade and...</td>\n",
       "      <td>178</td>\n",
       "      <td>83</td>\n",
       "      <td>52</td>\n",
       "      <td>10</td>\n",
       "      <td>3</td>\n",
       "      <td>6</td>\n",
       "      <td>8</td>\n",
       "      <td>0</td>\n",
       "      <td>0</td>\n",
       "      <td>1</td>\n",
       "    </tr>\n",
       "  </tbody>\n",
       "</table>\n",
       "<p>12150 rows × 11 columns</p>\n",
       "</div>"
      ],
      "text/plain": [
       "                                                    text  Vocabulary  \\\n",
       "0      Unveiling the Plot: Evidence Points to Premedi...         279   \n",
       "1      Chris Wallace Departs Fox News After 18 Years ...         215   \n",
       "2      Tiger Woods' Resurgence: A Journey from Scanda...         255   \n",
       "3      Fact Check: Biden Inauguration Amidst Pandemic...         282   \n",
       "4      Hurricane Ida, the third major hurricane to hi...         114   \n",
       "...                                                  ...         ...   \n",
       "12145  Tom Brady Retires, Baker Mayfield Takes Over: ...         261   \n",
       "12146  NEW YORK (CNN) -- On the morning of Sept. 11, ...         125   \n",
       "12147  Tiger Woods was involved in a serious car cras...         147   \n",
       "12148  Facebook warns of slower revenue growth amid f...         233   \n",
       "12149  Suez Canal Blockage Threatens Global Trade and...         178   \n",
       "\n",
       "       Noun Count  Verb Count  AUX Count  NUM Count  PRON Count  ADV Count  \\\n",
       "0             146          86          2          2           9         13   \n",
       "1              85          48          1          5          12          5   \n",
       "2             107          64          4         10          31         13   \n",
       "3             130          84          0          6           7          9   \n",
       "4              66          58          2         11           4          4   \n",
       "...           ...         ...        ...        ...         ...        ...   \n",
       "12145         121          64         10         25           9         10   \n",
       "12146          37          36          0          4          17          7   \n",
       "12147         103          86          1          1          32         16   \n",
       "12148         106          54          1         17          10         10   \n",
       "12149          83          52         10          3           6          8   \n",
       "\n",
       "       INTJ Count  PART Count  label  \n",
       "0               0           0      1  \n",
       "1               0           1      1  \n",
       "2               0           0      1  \n",
       "3               0           1      1  \n",
       "4               0           1      1  \n",
       "...           ...         ...    ...  \n",
       "12145           0           1      1  \n",
       "12146           0           1      1  \n",
       "12147           0           1      1  \n",
       "12148           0           2      0  \n",
       "12149           0           0      1  \n",
       "\n",
       "[12150 rows x 11 columns]"
      ]
     },
     "execution_count": 7,
     "metadata": {},
     "output_type": "execute_result"
    }
   ],
   "source": [
    "df"
   ]
  },
  {
   "cell_type": "markdown",
   "metadata": {
    "id": "02QvfFZcLD8v"
   },
   "source": [
    "# Convert into a label encoder, 0 for 'is_human' and 1 for 'machine'"
   ]
  },
  {
   "cell_type": "code",
   "execution_count": 8,
   "metadata": {
    "id": "s1aAafedF4K2"
   },
   "outputs": [],
   "source": [
    "from sklearn.preprocessing import LabelEncoder\n",
    "\n",
    "# Assuming df is your DataFrame and 'label' is the column you want to encode\n",
    "label_encoder = LabelEncoder()\n",
    "df['label'] = label_encoder.fit_transform(df['label'])"
   ]
  },
  {
   "cell_type": "code",
   "execution_count": 9,
   "metadata": {
    "colab": {
     "base_uri": "https://localhost:8080/",
     "height": 614
    },
    "id": "wQTL5ug5LLv5",
    "outputId": "cc008a7a-fd95-4660-9912-c46691b1a3e4"
   },
   "outputs": [
    {
     "data": {
      "text/html": [
       "<div>\n",
       "<style scoped>\n",
       "    .dataframe tbody tr th:only-of-type {\n",
       "        vertical-align: middle;\n",
       "    }\n",
       "\n",
       "    .dataframe tbody tr th {\n",
       "        vertical-align: top;\n",
       "    }\n",
       "\n",
       "    .dataframe thead th {\n",
       "        text-align: right;\n",
       "    }\n",
       "</style>\n",
       "<table border=\"1\" class=\"dataframe\">\n",
       "  <thead>\n",
       "    <tr style=\"text-align: right;\">\n",
       "      <th></th>\n",
       "      <th>text</th>\n",
       "      <th>Vocabulary</th>\n",
       "      <th>Noun Count</th>\n",
       "      <th>Verb Count</th>\n",
       "      <th>AUX Count</th>\n",
       "      <th>NUM Count</th>\n",
       "      <th>PRON Count</th>\n",
       "      <th>ADV Count</th>\n",
       "      <th>INTJ Count</th>\n",
       "      <th>PART Count</th>\n",
       "      <th>label</th>\n",
       "    </tr>\n",
       "  </thead>\n",
       "  <tbody>\n",
       "    <tr>\n",
       "      <th>0</th>\n",
       "      <td>Unveiling the Plot: Evidence Points to Premedi...</td>\n",
       "      <td>279</td>\n",
       "      <td>146</td>\n",
       "      <td>86</td>\n",
       "      <td>2</td>\n",
       "      <td>2</td>\n",
       "      <td>9</td>\n",
       "      <td>13</td>\n",
       "      <td>0</td>\n",
       "      <td>0</td>\n",
       "      <td>1</td>\n",
       "    </tr>\n",
       "    <tr>\n",
       "      <th>1</th>\n",
       "      <td>Chris Wallace Departs Fox News After 18 Years ...</td>\n",
       "      <td>215</td>\n",
       "      <td>85</td>\n",
       "      <td>48</td>\n",
       "      <td>1</td>\n",
       "      <td>5</td>\n",
       "      <td>12</td>\n",
       "      <td>5</td>\n",
       "      <td>0</td>\n",
       "      <td>1</td>\n",
       "      <td>1</td>\n",
       "    </tr>\n",
       "    <tr>\n",
       "      <th>2</th>\n",
       "      <td>Tiger Woods' Resurgence: A Journey from Scanda...</td>\n",
       "      <td>255</td>\n",
       "      <td>107</td>\n",
       "      <td>64</td>\n",
       "      <td>4</td>\n",
       "      <td>10</td>\n",
       "      <td>31</td>\n",
       "      <td>13</td>\n",
       "      <td>0</td>\n",
       "      <td>0</td>\n",
       "      <td>1</td>\n",
       "    </tr>\n",
       "    <tr>\n",
       "      <th>3</th>\n",
       "      <td>Fact Check: Biden Inauguration Amidst Pandemic...</td>\n",
       "      <td>282</td>\n",
       "      <td>130</td>\n",
       "      <td>84</td>\n",
       "      <td>0</td>\n",
       "      <td>6</td>\n",
       "      <td>7</td>\n",
       "      <td>9</td>\n",
       "      <td>0</td>\n",
       "      <td>1</td>\n",
       "      <td>1</td>\n",
       "    </tr>\n",
       "    <tr>\n",
       "      <th>4</th>\n",
       "      <td>Hurricane Ida, the third major hurricane to hi...</td>\n",
       "      <td>114</td>\n",
       "      <td>66</td>\n",
       "      <td>58</td>\n",
       "      <td>2</td>\n",
       "      <td>11</td>\n",
       "      <td>4</td>\n",
       "      <td>4</td>\n",
       "      <td>0</td>\n",
       "      <td>1</td>\n",
       "      <td>1</td>\n",
       "    </tr>\n",
       "    <tr>\n",
       "      <th>...</th>\n",
       "      <td>...</td>\n",
       "      <td>...</td>\n",
       "      <td>...</td>\n",
       "      <td>...</td>\n",
       "      <td>...</td>\n",
       "      <td>...</td>\n",
       "      <td>...</td>\n",
       "      <td>...</td>\n",
       "      <td>...</td>\n",
       "      <td>...</td>\n",
       "      <td>...</td>\n",
       "    </tr>\n",
       "    <tr>\n",
       "      <th>12145</th>\n",
       "      <td>Tom Brady Retires, Baker Mayfield Takes Over: ...</td>\n",
       "      <td>261</td>\n",
       "      <td>121</td>\n",
       "      <td>64</td>\n",
       "      <td>10</td>\n",
       "      <td>25</td>\n",
       "      <td>9</td>\n",
       "      <td>10</td>\n",
       "      <td>0</td>\n",
       "      <td>1</td>\n",
       "      <td>1</td>\n",
       "    </tr>\n",
       "    <tr>\n",
       "      <th>12146</th>\n",
       "      <td>NEW YORK (CNN) -- On the morning of Sept. 11, ...</td>\n",
       "      <td>125</td>\n",
       "      <td>37</td>\n",
       "      <td>36</td>\n",
       "      <td>0</td>\n",
       "      <td>4</td>\n",
       "      <td>17</td>\n",
       "      <td>7</td>\n",
       "      <td>0</td>\n",
       "      <td>1</td>\n",
       "      <td>1</td>\n",
       "    </tr>\n",
       "    <tr>\n",
       "      <th>12147</th>\n",
       "      <td>Tiger Woods was involved in a serious car cras...</td>\n",
       "      <td>147</td>\n",
       "      <td>103</td>\n",
       "      <td>86</td>\n",
       "      <td>1</td>\n",
       "      <td>1</td>\n",
       "      <td>32</td>\n",
       "      <td>16</td>\n",
       "      <td>0</td>\n",
       "      <td>1</td>\n",
       "      <td>1</td>\n",
       "    </tr>\n",
       "    <tr>\n",
       "      <th>12148</th>\n",
       "      <td>Facebook warns of slower revenue growth amid f...</td>\n",
       "      <td>233</td>\n",
       "      <td>106</td>\n",
       "      <td>54</td>\n",
       "      <td>1</td>\n",
       "      <td>17</td>\n",
       "      <td>10</td>\n",
       "      <td>10</td>\n",
       "      <td>0</td>\n",
       "      <td>2</td>\n",
       "      <td>0</td>\n",
       "    </tr>\n",
       "    <tr>\n",
       "      <th>12149</th>\n",
       "      <td>Suez Canal Blockage Threatens Global Trade and...</td>\n",
       "      <td>178</td>\n",
       "      <td>83</td>\n",
       "      <td>52</td>\n",
       "      <td>10</td>\n",
       "      <td>3</td>\n",
       "      <td>6</td>\n",
       "      <td>8</td>\n",
       "      <td>0</td>\n",
       "      <td>0</td>\n",
       "      <td>1</td>\n",
       "    </tr>\n",
       "  </tbody>\n",
       "</table>\n",
       "<p>12150 rows × 11 columns</p>\n",
       "</div>"
      ],
      "text/plain": [
       "                                                    text  Vocabulary  \\\n",
       "0      Unveiling the Plot: Evidence Points to Premedi...         279   \n",
       "1      Chris Wallace Departs Fox News After 18 Years ...         215   \n",
       "2      Tiger Woods' Resurgence: A Journey from Scanda...         255   \n",
       "3      Fact Check: Biden Inauguration Amidst Pandemic...         282   \n",
       "4      Hurricane Ida, the third major hurricane to hi...         114   \n",
       "...                                                  ...         ...   \n",
       "12145  Tom Brady Retires, Baker Mayfield Takes Over: ...         261   \n",
       "12146  NEW YORK (CNN) -- On the morning of Sept. 11, ...         125   \n",
       "12147  Tiger Woods was involved in a serious car cras...         147   \n",
       "12148  Facebook warns of slower revenue growth amid f...         233   \n",
       "12149  Suez Canal Blockage Threatens Global Trade and...         178   \n",
       "\n",
       "       Noun Count  Verb Count  AUX Count  NUM Count  PRON Count  ADV Count  \\\n",
       "0             146          86          2          2           9         13   \n",
       "1              85          48          1          5          12          5   \n",
       "2             107          64          4         10          31         13   \n",
       "3             130          84          0          6           7          9   \n",
       "4              66          58          2         11           4          4   \n",
       "...           ...         ...        ...        ...         ...        ...   \n",
       "12145         121          64         10         25           9         10   \n",
       "12146          37          36          0          4          17          7   \n",
       "12147         103          86          1          1          32         16   \n",
       "12148         106          54          1         17          10         10   \n",
       "12149          83          52         10          3           6          8   \n",
       "\n",
       "       INTJ Count  PART Count  label  \n",
       "0               0           0      1  \n",
       "1               0           1      1  \n",
       "2               0           0      1  \n",
       "3               0           1      1  \n",
       "4               0           1      1  \n",
       "...           ...         ...    ...  \n",
       "12145           0           1      1  \n",
       "12146           0           1      1  \n",
       "12147           0           1      1  \n",
       "12148           0           2      0  \n",
       "12149           0           0      1  \n",
       "\n",
       "[12150 rows x 11 columns]"
      ]
     },
     "execution_count": 9,
     "metadata": {},
     "output_type": "execute_result"
    }
   ],
   "source": [
    "df"
   ]
  },
  {
   "cell_type": "markdown",
   "metadata": {
    "id": "iwQOPkKWLbgp"
   },
   "source": [
    "# Store the list of 'text' in X and 'label' in y_data"
   ]
  },
  {
   "cell_type": "code",
   "execution_count": 10,
   "metadata": {
    "id": "kjCp9sufLMc9"
   },
   "outputs": [],
   "source": [
    "X = list(df['text'])\n",
    "y_data = df['label']\n",
    "y = y_data.values"
   ]
  },
  {
   "cell_type": "markdown",
   "metadata": {
    "id": "JBz-SZG_LwuQ"
   },
   "source": [
    "# Convert into text tokenization"
   ]
  },
  {
   "cell_type": "markdown",
   "metadata": {
    "id": "U8bE5eAbL6g2"
   },
   "source": [
    "Assuming X is a list of mixed data-types, filter out non-string values"
   ]
  },
  {
   "cell_type": "code",
   "execution_count": 11,
   "metadata": {
    "colab": {
     "base_uri": "https://localhost:8080/"
    },
    "id": "TyoAQVS_L17J",
    "outputId": "af28286d-aeff-4475-9664-e6dda725ec52"
   },
   "outputs": [
    {
     "data": {
      "text/plain": [
       "12150"
      ]
     },
     "execution_count": 11,
     "metadata": {},
     "output_type": "execute_result"
    }
   ],
   "source": [
    "X = [str(x) if isinstance(x, str) else '' for x in X]\n",
    "len(X)"
   ]
  },
  {
   "cell_type": "code",
   "execution_count": 12,
   "metadata": {
    "id": "kaJJcGS0MNfE"
   },
   "outputs": [],
   "source": [
    "#Model CNN & Bi-LSTM\n",
    "import keras\n",
    "from keras.preprocessing.text import one_hot\n",
    "from keras.utils import pad_sequences\n",
    "#from keras_preprocessing.sequence import pad_sequences\n",
    "from keras.models import Sequential\n",
    "from keras.layers import LSTM\n",
    "# from keras.layers.recurrent import LSTM\n",
    "# from keras.layers.core import Activation, Dropout, Dense\n",
    "from keras.layers import LSTM, Activation, Dropout, Dense, Flatten, Bidirectional, GRU, concatenate, SpatialDropout1D\n",
    "\n",
    "from keras.layers import Flatten, LSTM\n",
    "from keras.layers import Bidirectional,GRU,concatenate,SpatialDropout1D\n",
    "from keras.layers import GlobalMaxPooling1D,GlobalAveragePooling1D,Conv1D\n",
    "from keras.models import Model\n",
    "from keras.layers import Embedding\n",
    "from sklearn.model_selection import train_test_split\n",
    "from keras.preprocessing.text import Tokenizer\n",
    "from keras.layers import Input\n",
    "from keras.layers import Concatenate\n",
    "import matplotlib.pyplot as plt\n",
    "from keras import layers\n",
    "from keras.optimizers import Adam,SGD,RMSprop\n",
    "from keras.losses import MeanSquaredError\n",
    "######## Textual Features for Embedding ###################\n",
    "max_len = 100\n",
    "max_features = 10000\n",
    "# max_features = 4479\n",
    "embed_size = 300\n",
    "tokenizer = Tokenizer(num_words=max_features)\n",
    "tokenizer.fit_on_texts(list(X))\n",
    "X = tokenizer.texts_to_sequences(X)\n",
    "X = pad_sequences(X, padding='post', maxlen=max_len)"
   ]
  },
  {
   "cell_type": "code",
   "execution_count": 13,
   "metadata": {
    "colab": {
     "base_uri": "https://localhost:8080/"
    },
    "id": "8mbrSKGvMV4s",
    "outputId": "c00b7a8c-ba7c-493e-a6c3-730ba9726e99"
   },
   "outputs": [
    {
     "data": {
      "text/plain": [
       "array([[4702,  562,   24, ...,    9,  105,  515],\n",
       "       [1934,  415, 6423, ...,    1,  773,  655],\n",
       "       [3554,    2, 4050, ..., 1092, 1295, 3748],\n",
       "       ...,\n",
       "       [4822,    3,   18, ...,    6,    1, 1149],\n",
       "       [ 386,   11, 3389, ...,    6,    5,  172],\n",
       "       [   4,    1,  240, ...,   30,   28,  477]], dtype=int32)"
      ]
     },
     "execution_count": 13,
     "metadata": {},
     "output_type": "execute_result"
    }
   ],
   "source": [
    "X"
   ]
  },
  {
   "cell_type": "code",
   "execution_count": 14,
   "metadata": {
    "colab": {
     "base_uri": "https://localhost:8080/"
    },
    "id": "gP19YWl6RSYl",
    "outputId": "657079f3-cf80-4c1d-d732-2afd3c321d4c"
   },
   "outputs": [
    {
     "data": {
      "text/plain": [
       "array([1, 1, 1, ..., 1, 0, 1])"
      ]
     },
     "execution_count": 14,
     "metadata": {},
     "output_type": "execute_result"
    }
   ],
   "source": [
    "y"
   ]
  },
  {
   "cell_type": "code",
   "execution_count": 15,
   "metadata": {
    "colab": {
     "base_uri": "https://localhost:8080/"
    },
    "id": "ahcHVu3IRUNq",
    "outputId": "ebae8081-0934-4826-a04d-f409fd038848"
   },
   "outputs": [
    {
     "data": {
      "text/plain": [
       "array([[0., 1.],\n",
       "       [0., 1.],\n",
       "       [0., 1.],\n",
       "       ...,\n",
       "       [0., 1.],\n",
       "       [1., 0.],\n",
       "       [0., 1.]], dtype=float32)"
      ]
     },
     "execution_count": 15,
     "metadata": {},
     "output_type": "execute_result"
    }
   ],
   "source": [
    "from keras.utils import to_categorical\n",
    "y = to_categorical(y, num_classes=2)\n",
    "y"
   ]
  },
  {
   "cell_type": "code",
   "execution_count": 16,
   "metadata": {
    "colab": {
     "base_uri": "https://localhost:8080/"
    },
    "id": "AfbJ82v2hArW",
    "outputId": "965c1f0a-843e-4d37-fd45-0b095c41e6fd"
   },
   "outputs": [
    {
     "data": {
      "text/plain": [
       "12150"
      ]
     },
     "execution_count": 16,
     "metadata": {},
     "output_type": "execute_result"
    }
   ],
   "source": [
    "len(y)"
   ]
  },
  {
   "cell_type": "markdown",
   "metadata": {
    "id": "YFt15HaPgudH"
   },
   "source": [
    "# Defining the Embedding Matrix"
   ]
  },
  {
   "cell_type": "code",
   "execution_count": 17,
   "metadata": {
    "id": "aCRL74KVS1fL"
   },
   "outputs": [],
   "source": [
    "from numpy import array\n",
    "from numpy import asarray\n",
    "from numpy import zeros\n",
    "# Load GloVe word embeddings\n",
    "embeddings_dictionary = {}\n",
    "embedding_dim = 100  # Adjust according to the dimensions of your GloVe embeddings file\n",
    "\n",
    "glove_file = open(\"/home/yadagiri/glove.6B.300d.txt\")  # Update the path\n",
    "for line in glove_file:\n",
    "    records = line.split()\n",
    "    word = records[0]\n",
    "    vector_dimensions = asarray(records[1:], dtype='float32')\n",
    "    embeddings_dictionary[word] = vector_dimensions\n",
    "glove_file.close()\n",
    "\n",
    "vocab_size = len(tokenizer.word_index) + 1  ## total distinct words is the Vocabulary ##\n",
    "word_index = tokenizer.word_index\n",
    "num_words = min(max_features,len(word_index)+1)\n",
    "embed_size = 300\n",
    "embedding_matrix = zeros((num_words, embed_size)) ## has to be similar to glove dimension ##\n",
    "for word, index in tokenizer.word_index.items():\n",
    "    if index >= max_features:\n",
    "        continue\n",
    "    embedding_vector = embeddings_dictionary.get(word)\n",
    "    if embedding_vector is not None:\n",
    "        embedding_matrix[index] = embedding_vector"
   ]
  },
  {
   "cell_type": "code",
   "execution_count": 18,
   "metadata": {
    "colab": {
     "base_uri": "https://localhost:8080/"
    },
    "id": "D0aH4cVZW6Bh",
    "outputId": "f6e04761-37aa-4d64-81f4-47502d184e79"
   },
   "outputs": [
    {
     "data": {
      "text/plain": [
       "array([[ 0.        ,  0.        ,  0.        , ...,  0.        ,\n",
       "         0.        ,  0.        ],\n",
       "       [ 0.04656   ,  0.21318001, -0.0074364 , ...,  0.0090611 ,\n",
       "        -0.20988999,  0.053913  ],\n",
       "       [ 0.038466  , -0.039792  ,  0.082747  , ..., -0.33427   ,\n",
       "         0.011807  ,  0.059703  ],\n",
       "       ...,\n",
       "       [-0.04136   , -0.064987  , -0.19898   , ...,  0.33342999,\n",
       "        -0.17115   , -0.080621  ],\n",
       "       [-0.042367  , -0.18526   ,  0.37704   , ...,  0.65853   ,\n",
       "        -0.28538001, -0.052693  ],\n",
       "       [ 0.20338   ,  0.15666001,  0.33083001, ...,  0.1302    ,\n",
       "        -0.074687  , -0.55899   ]])"
      ]
     },
     "execution_count": 18,
     "metadata": {},
     "output_type": "execute_result"
    }
   ],
   "source": [
    "embedding_matrix"
   ]
  },
  {
   "cell_type": "markdown",
   "metadata": {
    "id": "GYoT0UVGb3I4"
   },
   "source": [
    "# Load the text as well as numerical data, then preprocess it"
   ]
  },
  {
   "cell_type": "code",
   "execution_count": 19,
   "metadata": {
    "id": "zQFM4qwdRsmj"
   },
   "outputs": [],
   "source": [
    "texts = df['text'].tolist()\n",
    "\n",
    "# texts = X\n",
    "# texts = texts.tolist()\n",
    "numerical_data = df[['Vocabulary', 'Noun Count', 'Verb Count', 'AUX Count', 'NUM Count', 'PRON Count', 'ADV Count', 'INTJ Count', 'PART Count']].values\n",
    "\n",
    "# tokenizer = Tokenizer()\n",
    "# tokenizer.fit_on_texts(texts)\n",
    "sequences = tokenizer.texts_to_sequences(texts)\n",
    "word_index = tokenizer.word_index\n",
    "max_sequence_length = max([len(seq) for seq in sequences])\n",
    "data = pad_sequences(sequences, maxlen=max_sequence_length)\n",
    "\n",
    "# # Normalize numerical data if needed\n",
    "# numerical_data_normalized = (numerical_data - numerical_data.mean(axis=0)) / numerical_data.std(axis=0)\n",
    "\n",
    "X = np.concatenate((data, numerical_data), axis=1)\n",
    "y = df['label'].values\n",
    "\n",
    "# X_train, X_test, y_train, y_test = train_test_split(X, y, test_size=0.2, random_state=42)\n"
   ]
  },
  {
   "cell_type": "code",
   "execution_count": 20,
   "metadata": {
    "colab": {
     "base_uri": "https://localhost:8080/"
    },
    "id": "TnFBQBZpZZ4Z",
    "outputId": "934b1fd7-efae-4750-ec3e-e9b2bc5e3c4d"
   },
   "outputs": [
    {
     "data": {
      "text/plain": [
       "(12150, 1269)"
      ]
     },
     "execution_count": 20,
     "metadata": {},
     "output_type": "execute_result"
    }
   ],
   "source": [
    "X.shape"
   ]
  },
  {
   "cell_type": "code",
   "execution_count": 21,
   "metadata": {
    "colab": {
     "base_uri": "https://localhost:8080/"
    },
    "id": "4mU3Iy75-wo0",
    "outputId": "66f779a1-ee1a-4a94-a174-a37ae258147d"
   },
   "outputs": [
    {
     "data": {
      "text/plain": [
       "(12150,)"
      ]
     },
     "execution_count": 21,
     "metadata": {},
     "output_type": "execute_result"
    }
   ],
   "source": [
    "y.shape"
   ]
  },
  {
   "cell_type": "code",
   "execution_count": 22,
   "metadata": {
    "colab": {
     "base_uri": "https://localhost:8080/"
    },
    "id": "SRNQXGGHcSSY",
    "outputId": "4055a658-3a61-42dc-e739-045b1801e96b"
   },
   "outputs": [
    {
     "name": "stdout",
     "output_type": "stream",
     "text": [
      "(10000, 300)\n"
     ]
    }
   ],
   "source": [
    "print(embedding_matrix.shape)"
   ]
  },
  {
   "cell_type": "code",
   "execution_count": 23,
   "metadata": {
    "colab": {
     "base_uri": "https://localhost:8080/"
    },
    "id": "6AvbjNSlcTuV",
    "outputId": "9fd668e7-504a-4538-ce9e-19fc36577e8c"
   },
   "outputs": [
    {
     "name": "stdout",
     "output_type": "stream",
     "text": [
      "36609 100\n"
     ]
    }
   ],
   "source": [
    "print(vocab_size, embedding_dim)"
   ]
  },
  {
   "cell_type": "markdown",
   "metadata": {
    "id": "nRuarbqkcIH_"
   },
   "source": [
    "# Define and build the model"
   ]
  },
  {
   "cell_type": "code",
   "execution_count": 24,
   "metadata": {
    "id": "v3Of3q9iS43X"
   },
   "outputs": [
    {
     "name": "stderr",
     "output_type": "stream",
     "text": [
      "2024-04-29 10:16:23.820459: E external/local_xla/xla/stream_executor/cuda/cuda_driver.cc:274] failed call to cuInit: CUDA_ERROR_NO_DEVICE: no CUDA-capable device is detected\n",
      "2024-04-29 10:16:23.820492: I external/local_xla/xla/stream_executor/cuda/cuda_diagnostics.cc:129] retrieving CUDA diagnostic information for host: nits-lab\n",
      "2024-04-29 10:16:23.820501: I external/local_xla/xla/stream_executor/cuda/cuda_diagnostics.cc:136] hostname: nits-lab\n",
      "2024-04-29 10:16:23.820676: I external/local_xla/xla/stream_executor/cuda/cuda_diagnostics.cc:159] libcuda reported version is: 535.171.4\n",
      "2024-04-29 10:16:23.820705: I external/local_xla/xla/stream_executor/cuda/cuda_diagnostics.cc:163] kernel reported version is: 535.171.4\n",
      "2024-04-29 10:16:23.820711: I external/local_xla/xla/stream_executor/cuda/cuda_diagnostics.cc:241] kernel version seems to match DSO: 535.171.4\n"
     ]
    }
   ],
   "source": [
    "vocab_size = len(word_index) + 1\n",
    "embedding_dim = embedding_matrix.shape[1]\n",
    "num_numerical_features = numerical_data.shape[1]\n",
    "num_classes = len(np.unique(y))\n",
    "embedding_matrix = np.zeros((vocab_size, embedding_dim))\n",
    "\n",
    "model = Sequential()\n",
    "model.add(Embedding(vocab_size, embedding_dim, weights=[embedding_matrix], input_length=max_sequence_length, trainable=False))\n",
    "model.add(Conv1D(128, 5, activation='relu'))\n",
    "model.add(MaxPooling1D(5))\n",
    "model.add(Bidirectional(LSTM(64)))\n",
    "model.add(Dense(64, activation='relu'))\n",
    "\n",
    "# Adding numerical data as input\n",
    "numerical_input = Input(shape=(num_numerical_features,))\n",
    "numerical_dense = Dense(32, activation='relu')(numerical_input)\n",
    "\n",
    "# Concatenate text and numerical features\n",
    "concatenated = concatenate([model.output, numerical_dense])\n",
    "\n",
    "# Final output layer\n",
    "output = Dense(num_classes, activation='softmax')(concatenated)\n",
    "\n",
    "final_model = Model(inputs=[model.input, numerical_input], outputs=output)\n",
    "final_model.compile(optimizer='adam', loss='sparse_categorical_crossentropy', metrics=['accuracy'])\n"
   ]
  },
  {
   "cell_type": "code",
   "execution_count": 25,
   "metadata": {
    "id": "mRIuBxbp9mQb"
   },
   "outputs": [],
   "source": [
    "X_train, X_test, y_train, y_test = train_test_split(X, y, test_size=0.2, random_state=42)"
   ]
  },
  {
   "cell_type": "code",
   "execution_count": 26,
   "metadata": {
    "colab": {
     "base_uri": "https://localhost:8080/"
    },
    "id": "VAemtimo9zpz",
    "outputId": "1d9c91ef-1e11-4b87-a642-a8567048805f"
   },
   "outputs": [
    {
     "data": {
      "text/plain": [
       "(9720, 1269)"
      ]
     },
     "execution_count": 26,
     "metadata": {},
     "output_type": "execute_result"
    }
   ],
   "source": [
    "X_train.shape"
   ]
  },
  {
   "cell_type": "code",
   "execution_count": 27,
   "metadata": {
    "colab": {
     "base_uri": "https://localhost:8080/"
    },
    "id": "h-BYDgJPC9PC",
    "outputId": "7cea89d5-b8c9-41d7-a934-b0862c1c7cbb"
   },
   "outputs": [
    {
     "data": {
      "text/plain": [
       "(2430, 1269)"
      ]
     },
     "execution_count": 27,
     "metadata": {},
     "output_type": "execute_result"
    }
   ],
   "source": [
    "X_test.shape"
   ]
  },
  {
   "cell_type": "code",
   "execution_count": 28,
   "metadata": {
    "colab": {
     "base_uri": "https://localhost:8080/"
    },
    "id": "FVqur52N9-_Y",
    "outputId": "96800bb4-d241-4dcb-991f-ad40d405c68f"
   },
   "outputs": [
    {
     "data": {
      "text/plain": [
       "(12150,)"
      ]
     },
     "execution_count": 28,
     "metadata": {},
     "output_type": "execute_result"
    }
   ],
   "source": [
    "y.shape"
   ]
  },
  {
   "cell_type": "markdown",
   "metadata": {
    "id": "la-EyVFBcPDy"
   },
   "source": [
    "# Train the model"
   ]
  },
  {
   "cell_type": "code",
   "execution_count": 29,
   "metadata": {
    "colab": {
     "base_uri": "https://localhost:8080/"
    },
    "id": "cRqvNbQdTIiT",
    "outputId": "d658902b-fb55-44ce-da09-a7dc9411c06c"
   },
   "outputs": [
    {
     "name": "stdout",
     "output_type": "stream",
     "text": [
      "Epoch 1/10\n",
      "76/76 [==============================] - 41s 494ms/step - loss: 0.6816 - accuracy: 0.8913 - val_loss: 0.3588 - val_accuracy: 0.9189\n",
      "Epoch 2/10\n",
      "76/76 [==============================] - 37s 487ms/step - loss: 0.2862 - accuracy: 0.9214 - val_loss: 0.2706 - val_accuracy: 0.9214\n",
      "Epoch 3/10\n",
      "76/76 [==============================] - 37s 484ms/step - loss: 0.2502 - accuracy: 0.9267 - val_loss: 0.2532 - val_accuracy: 0.9206\n",
      "Epoch 4/10\n",
      "76/76 [==============================] - 37s 483ms/step - loss: 0.2355 - accuracy: 0.9289 - val_loss: 0.2663 - val_accuracy: 0.9218\n",
      "Epoch 5/10\n",
      "76/76 [==============================] - 37s 482ms/step - loss: 0.2303 - accuracy: 0.9285 - val_loss: 0.2408 - val_accuracy: 0.9280\n",
      "Epoch 6/10\n",
      "76/76 [==============================] - 37s 486ms/step - loss: 0.2159 - accuracy: 0.9329 - val_loss: 0.2368 - val_accuracy: 0.9235\n",
      "Epoch 7/10\n",
      "76/76 [==============================] - 37s 485ms/step - loss: 0.2185 - accuracy: 0.9335 - val_loss: 0.2260 - val_accuracy: 0.9255\n",
      "Epoch 8/10\n",
      "76/76 [==============================] - 37s 486ms/step - loss: 0.2196 - accuracy: 0.9315 - val_loss: 0.2263 - val_accuracy: 0.9255\n",
      "Epoch 9/10\n",
      "76/76 [==============================] - 37s 487ms/step - loss: 0.2149 - accuracy: 0.9345 - val_loss: 0.2401 - val_accuracy: 0.9210\n",
      "Epoch 10/10\n",
      "76/76 [==============================] - 37s 486ms/step - loss: 0.2081 - accuracy: 0.9330 - val_loss: 0.2482 - val_accuracy: 0.9169\n"
     ]
    },
    {
     "data": {
      "text/plain": [
       "<keras.src.callbacks.History at 0x765b86c3aad0>"
      ]
     },
     "execution_count": 29,
     "metadata": {},
     "output_type": "execute_result"
    }
   ],
   "source": [
    "final_model.fit([X_train[:, :max_sequence_length], X_train[:, max_sequence_length:]], y_train, epochs=10, batch_size=128, validation_data=([X_test[:, :max_sequence_length], X_test[:, max_sequence_length:]], y_test))"
   ]
  },
  {
   "cell_type": "markdown",
   "metadata": {
    "id": "wj41GL0PcVlI"
   },
   "source": [
    "# Evaluate the model"
   ]
  },
  {
   "cell_type": "code",
   "execution_count": 30,
   "metadata": {
    "colab": {
     "base_uri": "https://localhost:8080/"
    },
    "id": "C4ftI0RrUvRm",
    "outputId": "46973f60-d500-41a6-cc37-2ab092e6ef43"
   },
   "outputs": [
    {
     "name": "stdout",
     "output_type": "stream",
     "text": [
      "76/76 [==============================] - 4s 58ms/step - loss: 0.2482 - accuracy: 0.9169\n",
      "Test Accuracy: 91.69%\n",
      "76/76 [==============================] - 5s 54ms/step\n",
      "Precision: 0.9112\n",
      "Recall: 0.9169\n",
      "F1 Score: 0.9138\n"
     ]
    }
   ],
   "source": [
    "# Evaluate the model on the test set\n",
    "loss, accuracy = final_model.evaluate([X_test[:, :max_sequence_length], X_test[:, max_sequence_length:]], y_test)\n",
    "print(f'Test Accuracy: {accuracy * 100:.2f}%')\n",
    "\n",
    "# Calculate additional metrics\n",
    "from sklearn.metrics import precision_score, recall_score, f1_score\n",
    "\n",
    "y_pred = final_model.predict([X_test[:, :max_sequence_length], X_test[:, max_sequence_length:]])\n",
    "y_pred_classes = np.argmax(y_pred, axis=1)\n",
    "\n",
    "precision = precision_score(y_test, y_pred_classes, average='weighted')\n",
    "recall = recall_score(y_test, y_pred_classes, average='weighted')\n",
    "f1 = f1_score(y_test, y_pred_classes, average='weighted')\n",
    "\n",
    "print(f'Precision: {precision:.4f}')\n",
    "print(f'Recall: {recall:.4f}')\n",
    "print(f'F1 Score: {f1:.4f}')\n"
   ]
  },
  {
   "cell_type": "code",
   "execution_count": 31,
   "metadata": {
    "colab": {
     "base_uri": "https://localhost:8080/",
     "height": 384
    },
    "id": "t9ViCD4Sew5N",
    "outputId": "f6730d12-7feb-415d-df0e-b6cc7cc9c61c"
   },
   "outputs": [
    {
     "name": "stdout",
     "output_type": "stream",
     "text": [
      "Filtered Mask: [False False False ... False False False]\n",
      "Filtered y_test: []\n"
     ]
    },
    {
     "name": "stderr",
     "output_type": "stream",
     "text": [
      "/home/yadagiri/anaconda3/lib/python3.11/site-packages/numpy/lib/arraysetops.py:733: FutureWarning: elementwise comparison failed; returning scalar instead, but in the future will perform elementwise comparison\n",
      "  mask |= (ar1 == a)\n"
     ]
    },
    {
     "ename": "ValueError",
     "evalue": "max() arg is an empty sequence",
     "output_type": "error",
     "traceback": [
      "\u001b[0;31m---------------------------------------------------------------------------\u001b[0m",
      "\u001b[0;31mValueError\u001b[0m                                Traceback (most recent call last)",
      "Cell \u001b[0;32mIn[31], line 13\u001b[0m\n\u001b[1;32m     11\u001b[0m \u001b[38;5;66;03m# Generate classification report for \"AI\" and \"human\" classes\u001b[39;00m\n\u001b[1;32m     12\u001b[0m \u001b[38;5;28;01mfrom\u001b[39;00m \u001b[38;5;21;01msklearn\u001b[39;00m\u001b[38;5;21;01m.\u001b[39;00m\u001b[38;5;21;01mmetrics\u001b[39;00m \u001b[38;5;28;01mimport\u001b[39;00m classification_report\n\u001b[0;32m---> 13\u001b[0m report \u001b[38;5;241m=\u001b[39m classification_report(y_test_filtered, y_pred_classes_filtered)\n\u001b[1;32m     15\u001b[0m \u001b[38;5;66;03m# Print the classification report\u001b[39;00m\n\u001b[1;32m     16\u001b[0m \u001b[38;5;28mprint\u001b[39m(report)\n",
      "File \u001b[0;32m~/anaconda3/lib/python3.11/site-packages/sklearn/utils/_param_validation.py:211\u001b[0m, in \u001b[0;36mvalidate_params.<locals>.decorator.<locals>.wrapper\u001b[0;34m(*args, **kwargs)\u001b[0m\n\u001b[1;32m    205\u001b[0m \u001b[38;5;28;01mtry\u001b[39;00m:\n\u001b[1;32m    206\u001b[0m     \u001b[38;5;28;01mwith\u001b[39;00m config_context(\n\u001b[1;32m    207\u001b[0m         skip_parameter_validation\u001b[38;5;241m=\u001b[39m(\n\u001b[1;32m    208\u001b[0m             prefer_skip_nested_validation \u001b[38;5;129;01mor\u001b[39;00m global_skip_validation\n\u001b[1;32m    209\u001b[0m         )\n\u001b[1;32m    210\u001b[0m     ):\n\u001b[0;32m--> 211\u001b[0m         \u001b[38;5;28;01mreturn\u001b[39;00m func(\u001b[38;5;241m*\u001b[39margs, \u001b[38;5;241m*\u001b[39m\u001b[38;5;241m*\u001b[39mkwargs)\n\u001b[1;32m    212\u001b[0m \u001b[38;5;28;01mexcept\u001b[39;00m InvalidParameterError \u001b[38;5;28;01mas\u001b[39;00m e:\n\u001b[1;32m    213\u001b[0m     \u001b[38;5;66;03m# When the function is just a wrapper around an estimator, we allow\u001b[39;00m\n\u001b[1;32m    214\u001b[0m     \u001b[38;5;66;03m# the function to delegate validation to the estimator, but we replace\u001b[39;00m\n\u001b[1;32m    215\u001b[0m     \u001b[38;5;66;03m# the name of the estimator by the name of the function in the error\u001b[39;00m\n\u001b[1;32m    216\u001b[0m     \u001b[38;5;66;03m# message to avoid confusion.\u001b[39;00m\n\u001b[1;32m    217\u001b[0m     msg \u001b[38;5;241m=\u001b[39m re\u001b[38;5;241m.\u001b[39msub(\n\u001b[1;32m    218\u001b[0m         \u001b[38;5;124mr\u001b[39m\u001b[38;5;124m\"\u001b[39m\u001b[38;5;124mparameter of \u001b[39m\u001b[38;5;124m\\\u001b[39m\u001b[38;5;124mw+ must be\u001b[39m\u001b[38;5;124m\"\u001b[39m,\n\u001b[1;32m    219\u001b[0m         \u001b[38;5;124mf\u001b[39m\u001b[38;5;124m\"\u001b[39m\u001b[38;5;124mparameter of \u001b[39m\u001b[38;5;132;01m{\u001b[39;00mfunc\u001b[38;5;241m.\u001b[39m\u001b[38;5;18m__qualname__\u001b[39m\u001b[38;5;132;01m}\u001b[39;00m\u001b[38;5;124m must be\u001b[39m\u001b[38;5;124m\"\u001b[39m,\n\u001b[1;32m    220\u001b[0m         \u001b[38;5;28mstr\u001b[39m(e),\n\u001b[1;32m    221\u001b[0m     )\n",
      "File \u001b[0;32m~/anaconda3/lib/python3.11/site-packages/sklearn/metrics/_classification.py:2592\u001b[0m, in \u001b[0;36mclassification_report\u001b[0;34m(y_true, y_pred, labels, target_names, sample_weight, digits, output_dict, zero_division)\u001b[0m\n\u001b[1;32m   2590\u001b[0m \u001b[38;5;28;01melse\u001b[39;00m:\n\u001b[1;32m   2591\u001b[0m     longest_last_line_heading \u001b[38;5;241m=\u001b[39m \u001b[38;5;124m\"\u001b[39m\u001b[38;5;124mweighted avg\u001b[39m\u001b[38;5;124m\"\u001b[39m\n\u001b[0;32m-> 2592\u001b[0m     name_width \u001b[38;5;241m=\u001b[39m \u001b[38;5;28mmax\u001b[39m(\u001b[38;5;28mlen\u001b[39m(cn) \u001b[38;5;28;01mfor\u001b[39;00m cn \u001b[38;5;129;01min\u001b[39;00m target_names)\n\u001b[1;32m   2593\u001b[0m     width \u001b[38;5;241m=\u001b[39m \u001b[38;5;28mmax\u001b[39m(name_width, \u001b[38;5;28mlen\u001b[39m(longest_last_line_heading), digits)\n\u001b[1;32m   2594\u001b[0m     head_fmt \u001b[38;5;241m=\u001b[39m \u001b[38;5;124m\"\u001b[39m\u001b[38;5;124m{\u001b[39m\u001b[38;5;124m:>\u001b[39m\u001b[38;5;132;01m{width}\u001b[39;00m\u001b[38;5;124ms} \u001b[39m\u001b[38;5;124m\"\u001b[39m \u001b[38;5;241m+\u001b[39m \u001b[38;5;124m\"\u001b[39m\u001b[38;5;124m \u001b[39m\u001b[38;5;132;01m{:>9}\u001b[39;00m\u001b[38;5;124m\"\u001b[39m \u001b[38;5;241m*\u001b[39m \u001b[38;5;28mlen\u001b[39m(headers)\n",
      "\u001b[0;31mValueError\u001b[0m: max() arg is an empty sequence"
     ]
    }
   ],
   "source": [
    "# Filter predictions and true labels for \"AI\" and \"human\" classes\n",
    "ai_human_mask = np.isin(y_test, ['AI', 'human'])\n",
    "\n",
    "# Debugging code to inspect values\n",
    "print(\"Filtered Mask:\", ai_human_mask)\n",
    "print(\"Filtered y_test:\", y_test[ai_human_mask])\n",
    "\n",
    "y_test_filtered = y_test[ai_human_mask]\n",
    "y_pred_classes_filtered = y_pred_classes[ai_human_mask]\n",
    "\n",
    "# Generate classification report for \"AI\" and \"human\" classes\n",
    "from sklearn.metrics import classification_report\n",
    "report = classification_report(y_test_filtered, y_pred_classes_filtered)\n",
    "\n",
    "# Print the classification report\n",
    "print(report)\n"
   ]
  }
 ],
 "metadata": {
  "colab": {
   "provenance": []
  },
  "kernelspec": {
   "display_name": "Python 3 (ipykernel)",
   "language": "python",
   "name": "python3"
  },
  "language_info": {
   "codemirror_mode": {
    "name": "ipython",
    "version": 3
   },
   "file_extension": ".py",
   "mimetype": "text/x-python",
   "name": "python",
   "nbconvert_exporter": "python",
   "pygments_lexer": "ipython3",
   "version": "3.11.5"
  }
 },
 "nbformat": 4,
 "nbformat_minor": 4
}
